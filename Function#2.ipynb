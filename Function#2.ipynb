{
 "cells": [
  {
   "cell_type": "code",
   "execution_count": 1,
   "id": "87385c35",
   "metadata": {},
   "outputs": [
    {
     "name": "stdout",
     "output_type": "stream",
     "text": [
      "Hello, kallu kya haal chal hai, mere bhai\n"
     ]
    }
   ],
   "source": [
    "def Hello():\n",
    "    print(\"Hello, kallu kya haal chal hai, mere bhai\")\n",
    "Hello()"
   ]
  },
  {
   "cell_type": "code",
   "execution_count": 2,
   "id": "b886abf8",
   "metadata": {},
   "outputs": [
    {
     "name": "stdout",
     "output_type": "stream",
     "text": [
      "Hello, kallu kya haal chal hai, mere bhai\n"
     ]
    }
   ],
   "source": [
    "Hello()"
   ]
  },
  {
   "cell_type": "code",
   "execution_count": 3,
   "id": "e7a6bb47",
   "metadata": {},
   "outputs": [
    {
     "name": "stdout",
     "output_type": "stream",
     "text": [
      "Hello, kallu kya haal chal hai, mere bhai, tum murgichor ho\n"
     ]
    }
   ],
   "source": [
    "def Hello2():\n",
    "    print(\"Hello, kallu kya haal chal hai, mere bhai, tum murgichor ho\")\n",
    "Hello2()"
   ]
  },
  {
   "cell_type": "code",
   "execution_count": 4,
   "id": "e221be8b",
   "metadata": {},
   "outputs": [
    {
     "name": "stdout",
     "output_type": "stream",
     "text": [
      "Sum is z and z is  5\n"
     ]
    }
   ],
   "source": [
    "def Sum():\n",
    "    x=2\n",
    "    y=3\n",
    "    z=x+y\n",
    "    print(\"Sum is z and z is \",z)\n",
    "Sum()"
   ]
  },
  {
   "cell_type": "code",
   "execution_count": 5,
   "id": "5c7eb6cc",
   "metadata": {},
   "outputs": [
    {
     "name": "stdout",
     "output_type": "stream",
     "text": [
      "X is not equal to y\n"
     ]
    }
   ],
   "source": [
    "def Sum():\n",
    "    x=2\n",
    "    y=3\n",
    "    if (x==y):\n",
    "        print(\"X is equal to y\")\n",
    "    else:\n",
    "        print(\"X is not equal to y\")\n",
    "    \n",
    "Sum()"
   ]
  },
  {
   "cell_type": "code",
   "execution_count": 6,
   "id": "127a7753",
   "metadata": {},
   "outputs": [
    {
     "name": "stdout",
     "output_type": "stream",
     "text": [
      "0\n",
      "1\n",
      "2\n",
      "3\n",
      "4\n",
      "5\n",
      "6\n",
      "7\n",
      "8\n",
      "9\n",
      "10\n",
      "11\n",
      "12\n",
      "13\n",
      "14\n",
      "15\n",
      "16\n",
      "17\n",
      "18\n",
      "19\n",
      "20\n",
      "21\n",
      "22\n",
      "23\n",
      "24\n",
      "25\n",
      "26\n",
      "27\n",
      "28\n",
      "29\n",
      "30\n",
      "31\n",
      "32\n",
      "33\n",
      "34\n",
      "35\n",
      "36\n",
      "37\n",
      "38\n",
      "39\n",
      "40\n",
      "41\n",
      "42\n",
      "43\n",
      "44\n",
      "45\n",
      "46\n",
      "47\n",
      "48\n",
      "49\n",
      "50\n",
      "51\n",
      "52\n",
      "53\n",
      "54\n",
      "55\n",
      "56\n",
      "57\n",
      "58\n",
      "59\n",
      "60\n",
      "61\n",
      "62\n",
      "63\n",
      "64\n",
      "65\n",
      "66\n",
      "67\n",
      "68\n",
      "69\n",
      "70\n",
      "71\n",
      "72\n",
      "73\n",
      "74\n",
      "75\n",
      "76\n",
      "77\n",
      "78\n",
      "79\n",
      "80\n",
      "81\n",
      "82\n",
      "83\n",
      "84\n",
      "85\n",
      "86\n",
      "87\n",
      "88\n",
      "89\n",
      "90\n",
      "91\n",
      "92\n",
      "93\n",
      "94\n",
      "95\n",
      "96\n",
      "97\n",
      "98\n",
      "99\n",
      "100\n",
      "101\n",
      "102\n",
      "103\n",
      "104\n"
     ]
    }
   ],
   "source": [
    "def kallu():\n",
    "    for i in range(105):\n",
    "        print(i)\n",
    "kallu()\n"
   ]
  },
  {
   "cell_type": "code",
   "execution_count": 7,
   "id": "74e6ac6a",
   "metadata": {},
   "outputs": [
    {
     "name": "stdout",
     "output_type": "stream",
     "text": [
      "5\n"
     ]
    }
   ],
   "source": [
    "def sum(a,b):\n",
    "    z=a+b\n",
    "    return z\n",
    "x=sum(2,3)\n",
    "print(x)"
   ]
  },
  {
   "cell_type": "code",
   "execution_count": 8,
   "id": "a13ea7e1",
   "metadata": {},
   "outputs": [
    {
     "name": "stdout",
     "output_type": "stream",
     "text": [
      "5\n"
     ]
    }
   ],
   "source": [
    "def sum(a,b):\n",
    "    z=a+b\n",
    "    print(z)\n",
    "sum(2,3)"
   ]
  },
  {
   "cell_type": "code",
   "execution_count": null,
   "id": "c7e17dec",
   "metadata": {},
   "outputs": [],
   "source": []
  }
 ],
 "metadata": {
  "kernelspec": {
   "display_name": "Python 3 (ipykernel)",
   "language": "python",
   "name": "python3"
  },
  "language_info": {
   "codemirror_mode": {
    "name": "ipython",
    "version": 3
   },
   "file_extension": ".py",
   "mimetype": "text/x-python",
   "name": "python",
   "nbconvert_exporter": "python",
   "pygments_lexer": "ipython3",
   "version": "3.9.13"
  }
 },
 "nbformat": 4,
 "nbformat_minor": 5
}
